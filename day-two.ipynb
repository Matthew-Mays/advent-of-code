{
 "cells": [
  {
   "cell_type": "code",
   "execution_count": 1,
   "metadata": {},
   "outputs": [],
   "source": [
    "import pandas as pd"
   ]
  },
  {
   "cell_type": "code",
   "execution_count": 2,
   "metadata": {},
   "outputs": [
    {
     "data": {
      "text/html": [
       "<div>\n",
       "<style scoped>\n",
       "    .dataframe tbody tr th:only-of-type {\n",
       "        vertical-align: middle;\n",
       "    }\n",
       "\n",
       "    .dataframe tbody tr th {\n",
       "        vertical-align: top;\n",
       "    }\n",
       "\n",
       "    .dataframe thead th {\n",
       "        text-align: right;\n",
       "    }\n",
       "</style>\n",
       "<table border=\"1\" class=\"dataframe\">\n",
       "  <thead>\n",
       "    <tr style=\"text-align: right;\">\n",
       "      <th></th>\n",
       "      <th>policy</th>\n",
       "      <th>char</th>\n",
       "      <th>password</th>\n",
       "    </tr>\n",
       "  </thead>\n",
       "  <tbody>\n",
       "    <tr>\n",
       "      <th>0</th>\n",
       "      <td>9-12</td>\n",
       "      <td>q:</td>\n",
       "      <td>qqqxhnhdmqqqqjz</td>\n",
       "    </tr>\n",
       "    <tr>\n",
       "      <th>1</th>\n",
       "      <td>12-16</td>\n",
       "      <td>z:</td>\n",
       "      <td>zzzzzznwlzzjzdzf</td>\n",
       "    </tr>\n",
       "    <tr>\n",
       "      <th>2</th>\n",
       "      <td>4-7</td>\n",
       "      <td>s:</td>\n",
       "      <td>sssgssw</td>\n",
       "    </tr>\n",
       "    <tr>\n",
       "      <th>3</th>\n",
       "      <td>13-14</td>\n",
       "      <td>p:</td>\n",
       "      <td>pppqzpppppppfpppp</td>\n",
       "    </tr>\n",
       "    <tr>\n",
       "      <th>4</th>\n",
       "      <td>2-9</td>\n",
       "      <td>m:</td>\n",
       "      <td>jknmmmmmmdmmmrm</td>\n",
       "    </tr>\n",
       "  </tbody>\n",
       "</table>\n",
       "</div>"
      ],
      "text/plain": [
       "  policy char           password\n",
       "0   9-12   q:    qqqxhnhdmqqqqjz\n",
       "1  12-16   z:   zzzzzznwlzzjzdzf\n",
       "2    4-7   s:            sssgssw\n",
       "3  13-14   p:  pppqzpppppppfpppp\n",
       "4    2-9   m:    jknmmmmmmdmmmrm"
      ]
     },
     "execution_count": 2,
     "metadata": {},
     "output_type": "execute_result"
    }
   ],
   "source": [
    "df = pd.read_csv('input2.txt', sep=' ')\n",
    "df.head()"
   ]
  },
  {
   "cell_type": "code",
   "execution_count": 3,
   "metadata": {},
   "outputs": [],
   "source": [
    "df.char = [x[0] for x in df.char]"
   ]
  },
  {
   "cell_type": "code",
   "execution_count": 4,
   "metadata": {},
   "outputs": [],
   "source": [
    "df['max_policy'] = [x.split('-')[1] for x in df.policy]\n",
    "df.policy = [x.split('-')[0] for x in df.policy]"
   ]
  },
  {
   "cell_type": "code",
   "execution_count": 5,
   "metadata": {},
   "outputs": [
    {
     "data": {
      "text/html": [
       "<div>\n",
       "<style scoped>\n",
       "    .dataframe tbody tr th:only-of-type {\n",
       "        vertical-align: middle;\n",
       "    }\n",
       "\n",
       "    .dataframe tbody tr th {\n",
       "        vertical-align: top;\n",
       "    }\n",
       "\n",
       "    .dataframe thead th {\n",
       "        text-align: right;\n",
       "    }\n",
       "</style>\n",
       "<table border=\"1\" class=\"dataframe\">\n",
       "  <thead>\n",
       "    <tr style=\"text-align: right;\">\n",
       "      <th></th>\n",
       "      <th>min_policy</th>\n",
       "      <th>max_policy</th>\n",
       "      <th>char</th>\n",
       "      <th>password</th>\n",
       "    </tr>\n",
       "  </thead>\n",
       "  <tbody>\n",
       "    <tr>\n",
       "      <th>0</th>\n",
       "      <td>9</td>\n",
       "      <td>12</td>\n",
       "      <td>q</td>\n",
       "      <td>qqqxhnhdmqqqqjz</td>\n",
       "    </tr>\n",
       "    <tr>\n",
       "      <th>1</th>\n",
       "      <td>12</td>\n",
       "      <td>16</td>\n",
       "      <td>z</td>\n",
       "      <td>zzzzzznwlzzjzdzf</td>\n",
       "    </tr>\n",
       "    <tr>\n",
       "      <th>2</th>\n",
       "      <td>4</td>\n",
       "      <td>7</td>\n",
       "      <td>s</td>\n",
       "      <td>sssgssw</td>\n",
       "    </tr>\n",
       "    <tr>\n",
       "      <th>3</th>\n",
       "      <td>13</td>\n",
       "      <td>14</td>\n",
       "      <td>p</td>\n",
       "      <td>pppqzpppppppfpppp</td>\n",
       "    </tr>\n",
       "    <tr>\n",
       "      <th>4</th>\n",
       "      <td>2</td>\n",
       "      <td>9</td>\n",
       "      <td>m</td>\n",
       "      <td>jknmmmmmmdmmmrm</td>\n",
       "    </tr>\n",
       "  </tbody>\n",
       "</table>\n",
       "</div>"
      ],
      "text/plain": [
       "  min_policy max_policy char           password\n",
       "0          9         12    q    qqqxhnhdmqqqqjz\n",
       "1         12         16    z   zzzzzznwlzzjzdzf\n",
       "2          4          7    s            sssgssw\n",
       "3         13         14    p  pppqzpppppppfpppp\n",
       "4          2          9    m    jknmmmmmmdmmmrm"
      ]
     },
     "execution_count": 5,
     "metadata": {},
     "output_type": "execute_result"
    }
   ],
   "source": [
    "df = df.rename(columns={'policy': 'min_policy'})\n",
    "df = df[['min_policy', 'max_policy', 'char', 'password']]\n",
    "df.head()"
   ]
  },
  {
   "cell_type": "code",
   "execution_count": 6,
   "metadata": {},
   "outputs": [],
   "source": [
    "df.min_policy = df.min_policy.astype(int)\n",
    "df.max_policy = df.max_policy.astype(int)"
   ]
  },
  {
   "cell_type": "code",
   "execution_count": 7,
   "metadata": {},
   "outputs": [
    {
     "name": "stdout",
     "output_type": "stream",
     "text": [
      "<class 'pandas.core.frame.DataFrame'>\n",
      "RangeIndex: 1000 entries, 0 to 999\n",
      "Data columns (total 4 columns):\n",
      " #   Column      Non-Null Count  Dtype \n",
      "---  ------      --------------  ----- \n",
      " 0   min_policy  1000 non-null   int64 \n",
      " 1   max_policy  1000 non-null   int64 \n",
      " 2   char        1000 non-null   object\n",
      " 3   password    1000 non-null   object\n",
      "dtypes: int64(2), object(2)\n",
      "memory usage: 31.4+ KB\n"
     ]
    }
   ],
   "source": [
    "df.info()"
   ]
  },
  {
   "cell_type": "code",
   "execution_count": 8,
   "metadata": {},
   "outputs": [],
   "source": [
    "df['pass_chars'] = df.password.str.split('')\n",
    "df['pass_chars'] = [x[1:-1] for x in df['pass_chars']]"
   ]
  },
  {
   "cell_type": "code",
   "execution_count": 9,
   "metadata": {},
   "outputs": [
    {
     "data": {
      "text/html": [
       "<div>\n",
       "<style scoped>\n",
       "    .dataframe tbody tr th:only-of-type {\n",
       "        vertical-align: middle;\n",
       "    }\n",
       "\n",
       "    .dataframe tbody tr th {\n",
       "        vertical-align: top;\n",
       "    }\n",
       "\n",
       "    .dataframe thead th {\n",
       "        text-align: right;\n",
       "    }\n",
       "</style>\n",
       "<table border=\"1\" class=\"dataframe\">\n",
       "  <thead>\n",
       "    <tr style=\"text-align: right;\">\n",
       "      <th></th>\n",
       "      <th>min_policy</th>\n",
       "      <th>max_policy</th>\n",
       "      <th>char</th>\n",
       "      <th>password</th>\n",
       "      <th>pass_chars</th>\n",
       "    </tr>\n",
       "  </thead>\n",
       "  <tbody>\n",
       "    <tr>\n",
       "      <th>0</th>\n",
       "      <td>9</td>\n",
       "      <td>12</td>\n",
       "      <td>q</td>\n",
       "      <td>qqqxhnhdmqqqqjz</td>\n",
       "      <td>[q, q, q, x, h, n, h, d, m, q, q, q, q, j, z]</td>\n",
       "    </tr>\n",
       "    <tr>\n",
       "      <th>1</th>\n",
       "      <td>12</td>\n",
       "      <td>16</td>\n",
       "      <td>z</td>\n",
       "      <td>zzzzzznwlzzjzdzf</td>\n",
       "      <td>[z, z, z, z, z, z, n, w, l, z, z, j, z, d, z, f]</td>\n",
       "    </tr>\n",
       "    <tr>\n",
       "      <th>2</th>\n",
       "      <td>4</td>\n",
       "      <td>7</td>\n",
       "      <td>s</td>\n",
       "      <td>sssgssw</td>\n",
       "      <td>[s, s, s, g, s, s, w]</td>\n",
       "    </tr>\n",
       "    <tr>\n",
       "      <th>3</th>\n",
       "      <td>13</td>\n",
       "      <td>14</td>\n",
       "      <td>p</td>\n",
       "      <td>pppqzpppppppfpppp</td>\n",
       "      <td>[p, p, p, q, z, p, p, p, p, p, p, p, f, p, p, ...</td>\n",
       "    </tr>\n",
       "    <tr>\n",
       "      <th>4</th>\n",
       "      <td>2</td>\n",
       "      <td>9</td>\n",
       "      <td>m</td>\n",
       "      <td>jknmmmmmmdmmmrm</td>\n",
       "      <td>[j, k, n, m, m, m, m, m, m, d, m, m, m, r, m]</td>\n",
       "    </tr>\n",
       "  </tbody>\n",
       "</table>\n",
       "</div>"
      ],
      "text/plain": [
       "   min_policy  max_policy char           password  \\\n",
       "0           9          12    q    qqqxhnhdmqqqqjz   \n",
       "1          12          16    z   zzzzzznwlzzjzdzf   \n",
       "2           4           7    s            sssgssw   \n",
       "3          13          14    p  pppqzpppppppfpppp   \n",
       "4           2           9    m    jknmmmmmmdmmmrm   \n",
       "\n",
       "                                          pass_chars  \n",
       "0      [q, q, q, x, h, n, h, d, m, q, q, q, q, j, z]  \n",
       "1   [z, z, z, z, z, z, n, w, l, z, z, j, z, d, z, f]  \n",
       "2                              [s, s, s, g, s, s, w]  \n",
       "3  [p, p, p, q, z, p, p, p, p, p, p, p, f, p, p, ...  \n",
       "4      [j, k, n, m, m, m, m, m, m, d, m, m, m, r, m]  "
      ]
     },
     "execution_count": 9,
     "metadata": {},
     "output_type": "execute_result"
    }
   ],
   "source": [
    "df.head()"
   ]
  },
  {
   "cell_type": "code",
   "execution_count": null,
   "metadata": {},
   "outputs": [],
   "source": [
    "pass_list = [password for password in df.pass_chars]"
   ]
  },
  {
   "cell_type": "code",
   "execution_count": null,
   "metadata": {},
   "outputs": [],
   "source": [
    "df.info()"
   ]
  },
  {
   "cell_type": "code",
   "execution_count": 16,
   "metadata": {},
   "outputs": [],
   "source": [
    "def check_pass(df):\n",
    "    valid = 0\n",
    "    \n",
    "    for row in df.index:\n",
    "        count = df.password.str.count(df.char[row])[row]\n",
    "        \n",
    "        if count >= df.min_policy[row] and count <= df.max_policy[row]:\n",
    "            valid+=1\n",
    "    return valid"
   ]
  },
  {
   "cell_type": "code",
   "execution_count": 17,
   "metadata": {},
   "outputs": [
    {
     "data": {
      "text/plain": [
       "569"
      ]
     },
     "execution_count": 17,
     "metadata": {},
     "output_type": "execute_result"
    }
   ],
   "source": [
    "check_pass(df)"
   ]
  },
  {
   "cell_type": "code",
   "execution_count": 34,
   "metadata": {},
   "outputs": [],
   "source": [
    "def check_pass_two(df):\n",
    "    valid = 0\n",
    "\n",
    "    for row in df.index:\n",
    "        position1 = df.min_policy[row] - 1\n",
    "        position2 = df.max_policy[row] - 1\n",
    "        char = df.char[row]\n",
    "        count = 0\n",
    "\n",
    "        if df.password.str[position1][row] == char:\n",
    "            count+=1\n",
    "        if df.password.str[position2][row] == char:\n",
    "            count+=1\n",
    "        if count == 1:\n",
    "            valid+=1\n",
    "\n",
    "    return valid"
   ]
  },
  {
   "cell_type": "code",
   "execution_count": 35,
   "metadata": {},
   "outputs": [
    {
     "data": {
      "text/plain": [
       "346"
      ]
     },
     "execution_count": 35,
     "metadata": {},
     "output_type": "execute_result"
    }
   ],
   "source": [
    "check_pass_two(df)"
   ]
  },
  {
   "cell_type": "code",
   "execution_count": null,
   "metadata": {},
   "outputs": [],
   "source": []
  }
 ],
 "metadata": {
  "kernelspec": {
   "display_name": "Python 3",
   "language": "python",
   "name": "python3"
  },
  "language_info": {
   "codemirror_mode": {
    "name": "ipython",
    "version": 3
   },
   "file_extension": ".py",
   "mimetype": "text/x-python",
   "name": "python",
   "nbconvert_exporter": "python",
   "pygments_lexer": "ipython3",
   "version": "3.7.6"
  }
 },
 "nbformat": 4,
 "nbformat_minor": 4
}
